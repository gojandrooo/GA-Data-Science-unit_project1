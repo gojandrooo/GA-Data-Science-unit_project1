{
 "cells": [
  {
   "cell_type": "markdown",
   "metadata": {},
   "source": [
    "# CHALLENGE 1 - LARGEST PALINDROME"
   ]
  },
  {
   "cell_type": "code",
   "execution_count": 4,
   "metadata": {},
   "outputs": [
    {
     "name": "stdout",
     "output_type": "stream",
     "text": [
      "The largest palindrome made from the product of two three-digit numbers is: 906609\n"
     ]
    }
   ],
   "source": [
    "# CHALLENGE 1 - LARGEST PALINDROME\n",
    "\n",
    "# Create function that evaluates - is this string a palindrome?\n",
    "def is_palin(num):\n",
    "    flip = num[::-1]\n",
    "    if flip == num:\n",
    "        return (num, \"Palindrome\")\n",
    "    else:\n",
    "        return (num, \"NOT\")\n",
    "        \n",
    "# Create 3-digit number ranges and iterate through all product combinations\n",
    "product = []\n",
    "\n",
    "for i in range(100,1000):\n",
    "    for x in range(100, 1000):\n",
    "        product.append(x*i)\n",
    "        \n",
    "# convert list of integers (product) to list of strings for is_palin function\n",
    "product_str = [str(item) for item in product]\n",
    "\n",
    "# run is_palin over list of products and create new list of only palindromes\n",
    "palindromes = []\n",
    "for index in range(len(product_str)):\n",
    "    if \"Palindrome\" in is_palin(product_str[index]):\n",
    "        palindromes.append(product_str[index])\n",
    "\n",
    "# convert list of strings (palindromes) back to list of integers\n",
    "palindromes_int = [int(item) for item in palindromes]\n",
    "\n",
    "# print largest palindrome \n",
    "max(palindromes_int)\n",
    "\n",
    "# print stat\n",
    "print (\"The largest palindrome made from the product of two three-digit numbers is:\", max(palindromes_int))"
   ]
  },
  {
   "cell_type": "markdown",
   "metadata": {},
   "source": [
    "# CHALLENGE 2 - SUMMATION OF PRIMES"
   ]
  },
  {
   "cell_type": "code",
   "execution_count": 5,
   "metadata": {},
   "outputs": [
    {
     "name": "stdout",
     "output_type": "stream",
     "text": [
      "The sum of all Prime numbers below 2000 is: 277050\n"
     ]
    }
   ],
   "source": [
    "# CHALLENGE 2 - SUMMATION OF PRIMES\n",
    "\n",
    "primes = []\n",
    "limit = 2000\n",
    "\n",
    "# create a loop that evaluates a range and a loop within it that evaluates the range up to itself (curent iteration)\n",
    "for i in range(2,limit):\n",
    "    for x in range(2,i):\n",
    "        if i % x == 0:\n",
    "            break # once we know it is not a prime number we can discard it\n",
    "    else:\n",
    "        primes.append(i) # create a list of the found prime numbers (those that weren't discarded)\n",
    "\n",
    "#print the sum of the numbers in the list\n",
    "\n",
    "print (\"The sum of all Prime numbers below\",limit,\"is:\",sum(primes))"
   ]
  },
  {
   "cell_type": "markdown",
   "metadata": {},
   "source": [
    "# CHALLENGE 3 - MULTIPLES OF 3 AND 5"
   ]
  },
  {
   "cell_type": "code",
   "execution_count": 18,
   "metadata": {},
   "outputs": [
    {
     "name": "stdout",
     "output_type": "stream",
     "text": [
      "The sum of all multiples of 3 OR 5 below 1,000 is: 233168\n",
      "The sum of all multiples of 3 AND 5 below 1,000 is: 33165\n"
     ]
    }
   ],
   "source": [
    "# CHALLENGE 3 - MULTIPLES OF 3 AND 5\n",
    "\n",
    "'''Note to Grader: I am not sure if this is a trick question.\n",
    "the example states \"multiples of 3 OR 5.\"\n",
    "the instructions state \"multiples of 3 AND 5\"\n",
    "I have provided solutions to both just in case.\n",
    "Please clarify for future students. Thank you.\n",
    "'''\n",
    "\n",
    "# find the sum of all multiples of 3 AND 5 below 1,000\n",
    "div_by_either = []\n",
    "for i in range(1,1000):\n",
    "    if i % 5 == 0 or i % 3 ==0:\n",
    "        div_by_either.append(i)\n",
    "        \n",
    "print(\"The sum of all multiples of 3 OR 5 below 1,000 is:\", sum(div_by_either))\n",
    "\n",
    "\n",
    "# find the sum of all multiples of 3 AND 5 below 1,000\n",
    "div_by_both = []\n",
    "for i in range(1,1000):\n",
    "    if i % 5 == 0 and i % 3 ==0:\n",
    "        div_by_both.append(i)\n",
    "        \n",
    "print(\"The sum of all multiples of 3 AND 5 below 1,000 is:\", sum(div_by_both))"
   ]
  },
  {
   "cell_type": "markdown",
   "metadata": {},
   "source": [
    "# CHALLENGE 4 - String Compressor"
   ]
  },
  {
   "cell_type": "code",
   "execution_count": 7,
   "metadata": {},
   "outputs": [
    {
     "data": {
      "text/plain": [
       "'aaaAAAbbbBBBcccCCC'"
      ]
     },
     "execution_count": 7,
     "metadata": {},
     "output_type": "execute_result"
    }
   ],
   "source": [
    "# CHALLENGE 4 - String Compressor\n",
    "\n",
    "# establish some string - can be any string, upper or lowercase\n",
    "\n",
    "some_string = \"aaaAAAbbbBBBcccCCC\"\n",
    "\n",
    "# create a function that counts alpha characters in string\n",
    "\n",
    "def run_length(string):\n",
    "    \n",
    "    some_string_compr = []\n",
    "\n",
    "# can work as a string instead of list. \n",
    "# works with upper and lower case because it includes upper and lower case.\n",
    "# to evaluate just lower case, remove upper case items and vice-versa\n",
    "\n",
    "    bothcase = ['a','A','b','B','c','C','d','D','e','E','f','F','g','G','h','H','i','I','j','J','k','K','l','L','m','M','n','N','o','O','p','P','q','Q','r','R','s','S','t','T','u','U','v','V','w','W','x','X','y','Y','z','Z']\n",
    "\n",
    "# loop through bothcase list\n",
    "\n",
    "    for s in bothcase:\n",
    "            count_s = string.count(s)                \n",
    "            some_string_compr += s + str(count_s)\n",
    "    some_string_compr = ''.join(str(e) for e in some_string_compr)  \n",
    "\n",
    "# evaluates whether run code is shorter than original string and returns whichever is shorter\n",
    "\n",
    "    if len(string) < len(some_string_compr):\n",
    "        return string\n",
    "    else:\n",
    "        return some_string_compr\n",
    "\n",
    "run_length(some_string)\n"
   ]
  }
 ],
 "metadata": {
  "kernelspec": {
   "display_name": "Python 3",
   "language": "python",
   "name": "python3"
  },
  "language_info": {
   "codemirror_mode": {
    "name": "ipython",
    "version": 3
   },
   "file_extension": ".py",
   "mimetype": "text/x-python",
   "name": "python",
   "nbconvert_exporter": "python",
   "pygments_lexer": "ipython3",
   "version": "3.6.3"
  }
 },
 "nbformat": 4,
 "nbformat_minor": 2
}
